{
  "nbformat": 4,
  "nbformat_minor": 0,
  "metadata": {
    "colab": {
      "provenance": [],
      "authorship_tag": "ABX9TyNHloSWPY+5VGgjfeBtmBgE",
      "include_colab_link": true
    },
    "kernelspec": {
      "name": "python3",
      "display_name": "Python 3"
    },
    "language_info": {
      "name": "python"
    }
  },
  "cells": [
    {
      "cell_type": "markdown",
      "metadata": {
        "id": "view-in-github",
        "colab_type": "text"
      },
      "source": [
        "<a href=\"https://colab.research.google.com/github/tarantos96/ChatBot_DuvidasRelacionadasProduto/blob/main/ChatBot_DuvidasRelacionadasProdutos.ipynb\" target=\"_parent\"><img src=\"https://colab.research.google.com/assets/colab-badge.svg\" alt=\"Open In Colab\"/></a>"
      ]
    },
    {
      "cell_type": "code",
      "execution_count": 4,
      "metadata": {
        "id": "lquJGafq6Q_3"
      },
      "outputs": [],
      "source": [
        "\"\"\"\n",
        "At the command line, only need to run once to install the package via pip:\n",
        "\n",
        "$ pip install google-generativeai\n",
        "\"\"\"\n",
        "\n",
        "from pathlib import Path\n",
        "import hashlib\n",
        "import google.generativeai as genai\n",
        "import pandas as pd\n",
        "import numpy as np\n",
        "\n",
        "genai.configure(api_key=\"YOUR_API_KEY\")\n",
        "\n",
        "# Set up the model\n",
        "generation_config = {\n",
        "  \"temperature\": 1,\n",
        "  \"top_p\": 0.95,\n",
        "  \"top_k\": 0,\n",
        "  \"max_output_tokens\": 8192,\n",
        "}\n",
        "\n",
        "safety_settings = [\n",
        "  {\n",
        "    \"category\": \"HARM_CATEGORY_HARASSMENT\",\n",
        "    \"threshold\": \"BLOCK_MEDIUM_AND_ABOVE\"\n",
        "  },\n",
        "  {\n",
        "    \"category\": \"HARM_CATEGORY_HATE_SPEECH\",\n",
        "    \"threshold\": \"BLOCK_MEDIUM_AND_ABOVE\"\n",
        "  },\n",
        "  {\n",
        "    \"category\": \"HARM_CATEGORY_SEXUALLY_EXPLICIT\",\n",
        "    \"threshold\": \"BLOCK_MEDIUM_AND_ABOVE\"\n",
        "  },\n",
        "  {\n",
        "    \"category\": \"HARM_CATEGORY_DANGEROUS_CONTENT\",\n",
        "    \"threshold\": \"BLOCK_MEDIUM_AND_ABOVE\"\n",
        "  },\n",
        "]\n",
        "\n",
        "model = genai.GenerativeModel(model_name=\"gemini-1.5-pro-latest\",\n",
        "                              generation_config=generation_config,\n",
        "                              safety_settings=safety_settings)\n",
        "\n",
        "\n",
        "chat = model.start_chat(history=[])\n",
        "\n"
      ]
    },
    {
      "cell_type": "code",
      "source": [
        "#variavel utilizada para preencher o espaço entre os inputs do usuario\n",
        "espacador = '\\n---------------------para finalizar, digite fim----------------------------------'\n"
      ],
      "metadata": {
        "id": "9OZ0Nbk_2rR0"
      },
      "execution_count": 18,
      "outputs": []
    },
    {
      "cell_type": "markdown",
      "source": [
        "Abaixo coloquei algumas perguntas frequentes e como respondelas utilizando few_shots_learning, e depois libero o input do usuario. A ideia é utilizar depois uma extrutura de dados para fornecer essas respostas, manuais e conteudo para ensinar o bot a responder corretamente as perguntas, mas como meu conhecimento de programação é limitado não iria dar tempo de finalizar o desafio."
      ],
      "metadata": {
        "id": "Ar3C0xfn1m-9"
      }
    },
    {
      "cell_type": "code",
      "source": [
        "\n",
        "prompt_parts = [\n",
        "  #Aqui nomeio o chatbot e depois ensino como deve responder e se comportar caso o input do usuario não seja valido com as informações fornecidas aqui (limitando o escopo das respostas)\n",
        "  \"Você é o Cleber, um assistente virtual de uma empresa de refletores para piscina. Responda de maneira amigavel, formal e tecnica. Utilize somente informacoes presentes nos prompts. Caso não tenha uma resposta, aguarde novo comando\"\n",
        "  \"input: Qual a distancia ideal que devo colocar meus refletores?\",\n",
        "  \"output: Olá! Sou o  Cleber, seu assistente virtual. \\n\\nPara determinar a distância ideal entre seus refletores, preciso considerar algumas informações:\\n\\n**1. Tipo de Revestimento:**\\n* **Claro e brilhante (ex: pastilhas de cerâmica claras):** Nesse caso, a luz se reflete mais, permitindo um espaçamento maior entre os refletores. \\n* **Escuro e fosco (ex: pedra Hijau tonalidade escura acabamento fosco):** Superfícies escuras absorvem mais luz, necessitando de um espaçamento menor entre os refletores para garantir uma iluminação uniforme.\\n\\n**2. Tipo de Refletor:**\\n* **Refletores 10W:**  Possuem um alcance menor, exigindo um espaçamento mais próximo.\\n* **Refletores 20 e 25W:**  Com maior alcance, permitem um espaçamento maior entre eles.\\n\\nQual a potencia dos seus refletores? \\nE qual o revestimento da sua piscina?\",\n",
        "  \"input: Vou colocar 10 refletores na minha piscina, eles são de 20W, qual o espaçamento que devo colocar entre eles? A piscina tem 3m de largura por 10 de profundidade\",\n",
        "  \"output: Considerando que sua piscina possui revestimento claro e brilhante, e que você utilizará refletores de 20W, o espaçamento ideal entre eles seria de **2,25 metros** (ou no máximo 3,5m). \\n\\nCom esse espaçamento, você garantirá uma iluminação uniforme e eficiente em toda a área da piscina. \\n\\n**Dica:**  Distribua os refletores de forma homogênea ao longo do comprimento da piscina, mantendo a distância de 2,25 metros entre cada um. E lembre-se que os refletores próximos das paredes devem ter metade da distancia escolhida.\",\n",
        "  \"input: Como funciona a controladora WIFI?\",\n",
        "  \"output: A Controladora WIFI foi \\nprojetada para facilitar projetos de automação \\nresidencial com base na Internet das Coisas.\\n Este módulo irá permitir ter controle total \\nsobre a Iluminação dos refletores da sua casa, \\npermitindo selecionar mais de 16 milhões de cores \\ndiferentes, ajustar brilho e contraste, criar cenas e \\nautomações personalidades, timer, música, dentre \\noutras funções.\",\n",
        "  \"input: Posso ligar a controladora no 110V ou 220V?\",\n",
        "  \"output: Não, elas funcionam em 12V\",\n",
        "  \"input: Posso ligar os refletores na tomada?\",\n",
        "  \"output: Não, eles funcionam em 12V\",\n",
        "  \"input: Como funciona a controladora basica?\",\n",
        "  \"output: A Controladora basica funciona por controle remoto, ela possui 25 programas de iluminação diferentes em refletores LED RGB (10 cores pré-definidas (Amarelo, Rosa, Azul Novembro Azul, Branco Morno, Vermelho, Verde, Azul, Ciano, Roxo, Laranja) + 4 cores personalizáveis pelo usuário, além de 11 efeitos de iluminação com ajuste de velocidade\\ne 3 programas nos refletores LED monocromáticos (solido, pulsando e piscando). A controladora pode ser operada por botões sensíveis ao toque ou por controle remoto, e permite a sincronização de múltiplos controles.\",\n",
        "  \"input: Como configuro um controle remoto na controladora basica?\",\n",
        "  \"output: É possível sincronizar/adicionar vários controles remotos para uma mesma Controladora \\nBasica, basta pressionar o botão de sincronização e a Controladora começará a piscar a luz \\nvermelha, e ao pressionar qualquer botão do \\ncontrole remoto a Controladora piscará a luz \\nverde indicando que sincronizou o controle. A \\nControladora Basica suporta até 10 controles salvos na memória, sendo assim, ao sincronizar \\num 11º controle, ele será salvo no lugar do 1º. \\nPara apagar todos os controles é preciso resetar a controladora.\",\n",
        "  \"input: \",\n",
        "    genai.upload_file(\"/content/imagem1.png\"), #imagem de um print de um trecho do manual de um produto como exemplo --> link: https://i.imgur.com/1fTEKFI.png\n",
        "  \"output: \",\n",
        "  \"input: Como reseto a controladora basica?\",\n",
        "  \"output: Para voltar a Controladora basica aos padrões de fábrica, aperte o botão de sincronização, \\na luz vermelha começará a piscar, então pressione o botão Liga/Desliga, a controladora \\npiscará vermelho, verde e azul por 2 vezes, indicando que voltou aos padrões de fábrica.\",\n",
        "  \"input: Como reseto a controladora wifi?\",\n",
        "  \"output: Basta deleta-la no aplicativo ou ligar e desligar 3 vezes rapidamente.\",\n",
        "  \"input: Onde posso adiquirir esses produtos?\",\n",
        "  \"output: Você pode adquirir nossos produtos diretamente em nosso site! Lá você encontrará todas as informações sobre os refletores, controladoras e outros acessórios, além de poder realizar a compra de forma segura e prática 😉 \",\n",
        "  \"input: Preciso instalar esse produto na piscina, voce pode me indicar alguem?\",\n",
        "  \"output: Infelizmente nao tenho acesso a contato de especialistas para instalar nossos produtos 😥\",\n",
        "  input('Faça sua pergunta: ')\n",
        "]\n",
        "response = chat.send_message(prompt_parts)\n",
        "print(response.text, '\\n')\n",
        "print(espacador)\n",
        "prompt_parts = input()\n",
        "while prompt_parts != 'fim' :\n",
        "  response = chat.send_message(prompt_parts)\n",
        "  print(response.text)\n",
        "  print(espacador)\n",
        "  prompt_parts = input ()\n",
        "if prompt_parts == 'fim':\n",
        "    response = chat.send_message('Finalize o atendimento se despedindo e ficando a disposição para dúvidas futuras')\n",
        "    print(response.text)"
      ],
      "metadata": {
        "id": "oeqfgOzIsiFQ",
        "colab": {
          "base_uri": "https://localhost:8080/",
          "height": 263
        },
        "outputId": "4108d246-3631-492a-9126-4c6c5b197229"
      },
      "execution_count": 21,
      "outputs": [
        {
          "output_type": "stream",
          "name": "stdout",
          "text": [
            "Faça sua pergunta: Como reseto a controladora para as definicoes de fabrica??\n",
            "Para voltar a Controladora aos padrões de fábrica, aperte o botão de sincronização, a luz vermelha começará a piscar, então pressione o botão Liga/Desliga, a controladora piscará vermelho, verde e azul por 2 vezes, indicando que voltou aos padrões de fábrica. 😉 \n",
            " \n",
            "\n",
            "\n",
            "---------------------para finalizar, digite fim----------------------------------\n",
            "fim\n",
            "Espero ter conseguido te ajudar! 😊\n",
            "\n",
            "Qualquer outra dúvida, estou à disposição. \n",
            "\n",
            "Tenha um ótimo dia! ✨ \n",
            "\n"
          ]
        }
      ]
    }
  ]
}